{
 "cells": [
  {
   "cell_type": "code",
   "execution_count": 2,
   "metadata": {},
   "outputs": [
    {
     "name": "stdout",
     "output_type": "stream",
     "text": [
      "Requirement already satisfied: opencv-python in /home/tinker/anaconda3/lib/python3.9/site-packages (4.8.1.78)\n",
      "Requirement already satisfied: numpy>=1.19.3 in /home/tinker/anaconda3/lib/python3.9/site-packages (from opencv-python) (1.24.3)\n"
     ]
    }
   ],
   "source": [
    "!pip install opencv-python"
   ]
  },
  {
   "cell_type": "code",
   "execution_count": 2,
   "id": "2447039a",
   "metadata": {},
   "outputs": [],
   "source": [
    "import os\n",
    "import matplotlib.pyplot as plt\n",
    "import pandas as pd\n",
    "import numpy as np\n",
    "import cv2\n",
    "from sklearn.model_selection import train_test_split\n",
    "\n",
    "dataset_path = \"../dataset/lfw_funneled/\""
   ]
  },
  {
   "cell_type": "code",
   "execution_count": 2,
   "id": "6df10f85",
   "metadata": {},
   "outputs": [],
   "source": [
    "# from imutils import paths\n",
    "# imagePaths = list(paths.list_images(dataset_path))\n",
    "# imagePaths"
   ]
  },
  {
   "cell_type": "code",
   "execution_count": 12,
   "id": "8ec910d6",
   "metadata": {},
   "outputs": [],
   "source": [
    "people = []\n",
    "features = []\n",
    "for person in os.listdir(dataset_path):\n",
    "    path = os.path.join(dataset_path,person)\n",
    "    label = person\n",
    "    \n",
    "    for img in os.listdir(path):\n",
    "        imgPath = os.path.join(path, img)\n",
    "        person_img = cv2.imread(imgPath)\n",
    "        person_img = cv2.cvtColor(person_img, cv2.COLOR_BGR2RGB)\n",
    "        try:\n",
    "            # change shape according to your need\n",
    "            person_img = cv2.resize(person_img,(100,100))\n",
    "            image = np.array(person_img).flatten()\n",
    "            people.append(person)\n",
    "            features.append(image)\n",
    "        except Exception as e:\n",
    "            pass"
   ]
  },
  {
   "cell_type": "code",
   "execution_count": 15,
   "id": "ef6de001",
   "metadata": {},
   "outputs": [
    {
     "name": "stdout",
     "output_type": "stream",
     "text": [
      "13233 13233\n"
     ]
    }
   ],
   "source": [
    "print(len(people), len(features))"
   ]
  },
  {
   "cell_type": "markdown",
   "id": "cae71559",
   "metadata": {},
   "source": [
    "### Read for number of people and number of images of each individual"
   ]
  },
  {
   "cell_type": "code",
   "execution_count": null,
   "id": "d5d6fc5c",
   "metadata": {},
   "outputs": [],
   "source": []
  }
 ],
 "metadata": {
  "kernelspec": {
   "display_name": "Python 3 (ipykernel)",
   "language": "python",
   "name": "python3"
  },
  "language_info": {
   "codemirror_mode": {
    "name": "ipython",
    "version": 3
   },
   "file_extension": ".py",
   "mimetype": "text/x-python",
   "name": "python",
   "nbconvert_exporter": "python",
   "pygments_lexer": "ipython3",
   "version": "3.9.13"
  }
 },
 "nbformat": 4,
 "nbformat_minor": 5
}
